{
 "cells": [
  {
   "cell_type": "code",
   "execution_count": 2,
   "metadata": {},
   "outputs": [],
   "source": [
    "import pandas as pd\n",
    "import numpy as np"
   ]
  },
  {
   "cell_type": "code",
   "execution_count": 3,
   "metadata": {},
   "outputs": [],
   "source": [
    "data_dir = \"./data/raw/combined_data_1.txt\"\n",
    "data = []\n",
    "\n",
    "with open(data_dir, \"r\") as file:\n",
    "    movie_id = None\n",
    "    for line in file:\n",
    "        line = line.strip()\n",
    "        if line.endswith(\":\"):\n",
    "            movie_id = int(line[:-1])\n",
    "        else:\n",
    "            customer_id, rating, date = line.split(\",\")\n",
    "            data.append([movie_id, int(customer_id), int(rating), date])\n",
    "\n",
    "data = pd.DataFrame(data, columns=[\"itemID\", \"userID\", \"rating\", \"timestamp\"])\n",
    "\n",
    "# convert date to timestamp\n",
    "data[\"timestamp\"] = pd.to_datetime(data[\"timestamp\"]).apply(lambda x: x.timestamp())\n",
    "\n",
    "# reindex IDs\n",
    "user_id = data[[\"userID\"]].drop_duplicates().reindex()\n",
    "user_id[\"userId\"] = np.arange(len(user_id))\n",
    "data = pd.merge(data, user_id, on=[\"userID\"], how=\"left\")\n",
    "\n",
    "item_id = data[[\"itemID\"]].drop_duplicates().reindex()\n",
    "item_id[\"itemId\"] = np.arange(len(item_id))\n",
    "data = pd.merge(data, item_id, on=[\"itemID\"], how=\"left\")\n",
    "\n",
    "data = data.drop(columns=[\"userID\", \"itemID\"])"
   ]
  },
  {
   "cell_type": "code",
   "execution_count": 4,
   "metadata": {},
   "outputs": [
    {
     "name": "stdout",
     "output_type": "stream",
     "text": [
      "   rating     timestamp  userId  itemId\n",
      "0       3  1.125965e+09       0       0\n",
      "1       5  1.115942e+09       1       0\n",
      "2       4  1.129680e+09       2       0\n",
      "3       4  1.135555e+09       3       0\n",
      "4       3  1.083542e+09       4       0\n",
      "Range of userId is [0, 4999]\n",
      "Range of itemId is [0, 4498]\n",
      "Range of rating is [1, 5]\n"
     ]
    }
   ],
   "source": [
    "# TODO remove users with less than 5 interactions\n",
    "\n",
    "# reduce rows\n",
    "NUM_USERS = 5000\n",
    "subset_user_ids = data[\"userId\"].unique()[:NUM_USERS]\n",
    "data = data[data[\"userId\"].isin(subset_user_ids)]\n",
    "\n",
    "print(data.head())\n",
    "print(\"Range of userId is [{}, {}]\".format(data.userId.min(), data.userId.max()))\n",
    "print(\"Range of itemId is [{}, {}]\".format(data.itemId.min(), data.itemId.max()))\n",
    "print(\"Range of rating is [{}, {}]\".format(data.rating.min(), data.rating.max()))\n",
    "\n",
    "data.to_csv(\"./data/processed/combined1.csv\")"
   ]
  }
 ],
 "metadata": {
  "kernelspec": {
   "display_name": "base",
   "language": "python",
   "name": "python3"
  },
  "language_info": {
   "codemirror_mode": {
    "name": "ipython",
    "version": 3
   },
   "file_extension": ".py",
   "mimetype": "text/x-python",
   "name": "python",
   "nbconvert_exporter": "python",
   "pygments_lexer": "ipython3",
   "version": "3.10.9"
  }
 },
 "nbformat": 4,
 "nbformat_minor": 2
}
